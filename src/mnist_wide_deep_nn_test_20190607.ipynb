{
 "cells": [
  {
   "cell_type": "code",
   "execution_count": 1,
   "metadata": {},
   "outputs": [],
   "source": [
    "# Lab 7 Learning rate and Evaluation\n",
    "# Test Data : MNIST\n",
    "import tensorflow as tf\n",
    "import matplotlib.pyplot as plt\n",
    "import random\n",
    "\n",
    "tf.set_random_seed(777) # for reproductibility\n"
   ]
  },
  {
   "cell_type": "code",
   "execution_count": 2,
   "metadata": {},
   "outputs": [
    {
     "name": "stdout",
     "output_type": "stream",
     "text": [
      "WARNING:tensorflow:From <ipython-input-2-e2f803e63a9d>:9: read_data_sets (from tensorflow.contrib.learn.python.learn.datasets.mnist) is deprecated and will be removed in a future version.\n",
      "Instructions for updating:\n",
      "Please use alternatives such as official/mnist/dataset.py from tensorflow/models.\n",
      "WARNING:tensorflow:From C:\\tools\\Anaconda3\\lib\\site-packages\\tensorflow\\contrib\\learn\\python\\learn\\datasets\\mnist.py:260: maybe_download (from tensorflow.contrib.learn.python.learn.datasets.base) is deprecated and will be removed in a future version.\n",
      "Instructions for updating:\n",
      "Please write your own downloading logic.\n",
      "WARNING:tensorflow:From C:\\tools\\Anaconda3\\lib\\site-packages\\tensorflow\\contrib\\learn\\python\\learn\\datasets\\mnist.py:262: extract_images (from tensorflow.contrib.learn.python.learn.datasets.mnist) is deprecated and will be removed in a future version.\n",
      "Instructions for updating:\n",
      "Please use tf.data to implement this functionality.\n",
      "Extracting MNIST_data/train-images-idx3-ubyte.gz\n",
      "WARNING:tensorflow:From C:\\tools\\Anaconda3\\lib\\site-packages\\tensorflow\\contrib\\learn\\python\\learn\\datasets\\mnist.py:267: extract_labels (from tensorflow.contrib.learn.python.learn.datasets.mnist) is deprecated and will be removed in a future version.\n",
      "Instructions for updating:\n",
      "Please use tf.data to implement this functionality.\n",
      "Extracting MNIST_data/train-labels-idx1-ubyte.gz\n",
      "WARNING:tensorflow:From C:\\tools\\Anaconda3\\lib\\site-packages\\tensorflow\\contrib\\learn\\python\\learn\\datasets\\mnist.py:110: dense_to_one_hot (from tensorflow.contrib.learn.python.learn.datasets.mnist) is deprecated and will be removed in a future version.\n",
      "Instructions for updating:\n",
      "Please use tf.one_hot on tensors.\n",
      "Extracting MNIST_data/t10k-images-idx3-ubyte.gz\n",
      "Extracting MNIST_data/t10k-labels-idx1-ubyte.gz\n",
      "WARNING:tensorflow:From C:\\tools\\Anaconda3\\lib\\site-packages\\tensorflow\\contrib\\learn\\python\\learn\\datasets\\mnist.py:290: DataSet.__init__ (from tensorflow.contrib.learn.python.learn.datasets.mnist) is deprecated and will be removed in a future version.\n",
      "Instructions for updating:\n",
      "Please use alternatives such as official/mnist/dataset.py from tensorflow/models.\n"
     ]
    }
   ],
   "source": [
    "# import MNIST Data\n",
    "\n",
    "# Check out https://www.tensorflow.org/get_started/mnist/beginners for\n",
    "# more information about the mnist dataset\n",
    "\n",
    "from tensorflow.examples.tutorials.mnist import input_data\n",
    "\n",
    "# Data import One-Hot Encoding\n",
    "mnist = input_data.read_data_sets(\"MNIST_data/\", one_hot=True)"
   ]
  },
  {
   "cell_type": "code",
   "execution_count": 4,
   "metadata": {},
   "outputs": [
    {
     "name": "stdout",
     "output_type": "stream",
     "text": [
      "<tf.Variable 'Variable_2:0' shape=(784, 60) dtype=float32_ref>\n"
     ]
    }
   ],
   "source": [
    "nb_classes = 10\n",
    "\n",
    "# MNIST data image of shape 28 * 28 = 784\n",
    "X = tf.placeholder(tf.float32, [None, 784])\n",
    "# 0 - 9 digits recognition = 10 classes\n",
    "Y = tf.placeholder(tf.float32, [None, nb_classes])\n",
    "\n",
    "# Layer 1\n",
    "# 모델 수립을 위한 Weight, bias 선언\n",
    "# Deep -> Many Layer\n",
    "# Wide -> Many Output\n",
    "# 첫 Layer 부터 무조건 출력값을 유지할 필요는 없음\n",
    "# 실제 Lab9-3의 예제에서도, 실제 값에 구애받지 않고 출력값을 늘려서\n",
    "# W, B를 산출 한 후, 이용 -> 최종 산출값만 맞춰서 적용\n",
    "#W1 = tf.Variable(tf.random_normal([784, nb_classes]))\n",
    "#For Wide\n",
    "#W1 = tf.Variable(tf.random_normal([784, 784]))\n",
    "#For Deep\n",
    "W1 = tf.Variable(tf.random_normal([784, 60]))\n",
    "#b1 = tf.Variable(tf.random_normal([nb_classes]))\n",
    "#b1 = tf.Variable(tf.random_normal([784]))\n",
    "b1 = tf.Variable(tf.random_normal([60]))\n",
    "#Layer1 Result\n",
    "#matmul [None, 784] * [784, 10] = [None, 10]\n",
    "layer1Res = tf.nn.softmax(tf.matmul(X, W1) + b1)\n",
    "\n",
    "print(W1)"
   ]
  },
  {
   "cell_type": "code",
   "execution_count": 6,
   "metadata": {},
   "outputs": [],
   "source": [
    "#Layer2\n",
    "#Layer를 하나 더 한다는 의미는, 실제 hypothesis에 도달하는 값에 양쪽layer\n",
    "#의 값이 영향을 미쳐야 함.\n",
    "W2 = tf.Variable(tf.random_normal([60, 60]))\n",
    "b2 = tf.Variable(tf.random_normal([60]))\n",
    "\n",
    "layer2Res = tf.nn.softmax(tf.matmul(layer1Res, W2) + b2)\n",
    "\n",
    "#Layer3\n",
    "#Test를 위해 동일한 방식으로 Layer를 하나 추가\n",
    "#Layer를 3개로 늘려서 처리했을 때\n",
    "#기존 : 0.89, 현재 : 0.429 -> 예측 실패 9를 7로 예측\n",
    "#TODO 실제로 출력값을 784로 맞추지 말고, 일단 줄여서 출력하고,\n",
    "#이후 적정한 숫자를 찾아가는 방식은 어떨까?? 확인 필요함\n",
    "W3 = tf.Variable(tf.random_normal([60, nb_classes]))\n",
    "b3 = tf.Variable(tf.random_normal([nb_classes]))\n",
    "\n",
    "# Hypothesis (using softmax)\n",
    "#hypothesis = tf.nn.softmax(tf.matmul(layer1Res, W2) + b2)\n",
    "\n",
    "# Layer 하나에서 산출된 값을 그냥 ADD했을 때에, 기존 방식보다 accracy 저하\n",
    "# 기존 : 0.89, 현재 : 0.78\n",
    "#hypothesis = tf.nn.softmax(layer1Res + layer2Res)\n",
    "\n",
    "# 다시 Layer1의 출력값을 늘리고, Layer2의 INPUT으로 입력하여 사용하는 경우\n",
    "# 기존 : 0.89, 현재 : 0.68 -> 굳이?\n",
    "hypothesis = tf.nn.softmax(tf.matmul(layer2Res, W3) + b3)\n",
    "\n",
    "cost = tf.reduce_mean(-tf.reduce_sum(Y * tf.log(hypothesis), axis=1))\n",
    "#train = tf.train.GradientDescentOptimizer(learning_rate=0.1).minimize(cost)\n",
    "train = tf.train.GradientDescentOptimizer(learning_rate=0.01).minimize(cost)\n",
    "\n",
    "\n",
    "# Test model\n",
    "is_correct = tf.equal(tf.argmax(hypothesis, 1), tf.argmax(Y, 1))\n",
    "# Calculate accuracy\n",
    "accuracy = tf.reduce_mean(tf.cast(is_correct, tf.float32))"
   ]
  },
  {
   "cell_type": "code",
   "execution_count": null,
   "metadata": {},
   "outputs": [
    {
     "name": "stdout",
     "output_type": "stream",
     "text": [
      "Epoch: 0001, Cost: 2.429669653\n",
      "Epoch: 0002, Cost: 2.322736654\n",
      "Epoch: 0003, Cost: 2.285576956\n"
     ]
    }
   ],
   "source": [
    "# parameters\n",
    "# epoch -> 입력된 데이터를 1번 모두 수행한 경우 1epoch\n",
    "#num_epochs = 15\n",
    "num_epochs = 15\n",
    "batch_size = 100\n",
    "num_iterations = int(mnist.train.num_examples / batch_size)\n",
    "\n",
    "with tf.Session() as sess:\n",
    "    # Initialize TensorFlow variables\n",
    "    sess.run(tf.global_variables_initializer())\n",
    "    # Training cycle\n",
    "    for epoch in range(num_epochs):\n",
    "        avg_cost = 0\n",
    "\n",
    "        for i in range(num_iterations):\n",
    "            batch_xs, batch_ys = mnist.train.next_batch(batch_size)\n",
    "            _, cost_val = sess.run([train, cost], feed_dict={X: batch_xs, Y: batch_ys})\n",
    "            avg_cost += cost_val / num_iterations\n",
    "\n",
    "        print(\"Epoch: {:04d}, Cost: {:.9f}\".format(epoch + 1, avg_cost))\n",
    "\n",
    "    print(\"Learning finished\")\n",
    "\n",
    "    # Test the model using test sets\n",
    "    print(\n",
    "        \"Accuracy: \",\n",
    "        accuracy.eval(\n",
    "            session=sess, feed_dict={X: mnist.test.images, Y: mnist.test.labels}\n",
    "        ),\n",
    "    )\n",
    "\n",
    "    # Get one and predict\n",
    "    r = random.randint(0, mnist.test.num_examples - 1)\n",
    "    print(\"Label: \", sess.run(tf.argmax(mnist.test.labels[r : r + 1], 1)))\n",
    "    print(\n",
    "        \"Prediction: \",\n",
    "        sess.run(tf.argmax(hypothesis, 1), feed_dict={X: mnist.test.images[r : r + 1]}),\n",
    "    )\n",
    "\n",
    "    plt.imshow(\n",
    "        mnist.test.images[r : r + 1].reshape(28, 28),\n",
    "        cmap=\"Greys\",\n",
    "        interpolation=\"nearest\",\n",
    "    )\n",
    "    plt.show()"
   ]
  }
 ],
 "metadata": {
  "kernelspec": {
   "display_name": "Python 3",
   "language": "python",
   "name": "python3"
  },
  "language_info": {
   "codemirror_mode": {
    "name": "ipython",
    "version": 3
   },
   "file_extension": ".py",
   "mimetype": "text/x-python",
   "name": "python",
   "nbconvert_exporter": "python",
   "pygments_lexer": "ipython3",
   "version": "3.7.3"
  }
 },
 "nbformat": 4,
 "nbformat_minor": 2
}

{
 "cells": [
  {
   "cell_type": "code",
   "execution_count": 1,
   "metadata": {},
   "outputs": [],
   "source": [
    "import tensorflow as tf\n",
    "import numpy as np\n",
    "import pprint\n",
    "tf.set_random_seed(777)  # for reproducibility\n",
    "\n",
    "pp = pprint.PrettyPrinter(indent=4)\n",
    "sess = tf.InteractiveSession()"
   ]
  },
  {
   "cell_type": "code",
   "execution_count": 2,
   "metadata": {},
   "outputs": [
    {
     "name": "stdout",
     "output_type": "stream",
     "text": [
      "(7, 5, 2)\n"
     ]
    },
    {
     "data": {
      "text/plain": [
       "array([[[ 0,  1],\n",
       "        [ 2,  3],\n",
       "        [ 4,  5],\n",
       "        [ 6,  7],\n",
       "        [ 8,  9]],\n",
       "\n",
       "       [[10, 11],\n",
       "        [12, 13],\n",
       "        [14, 15],\n",
       "        [16, 17],\n",
       "        [18, 19]],\n",
       "\n",
       "       [[20, 21],\n",
       "        [22, 23],\n",
       "        [24, 25],\n",
       "        [26, 27],\n",
       "        [28, 29]],\n",
       "\n",
       "       [[30, 31],\n",
       "        [32, 33],\n",
       "        [34, 35],\n",
       "        [36, 37],\n",
       "        [38, 39]],\n",
       "\n",
       "       [[40, 41],\n",
       "        [42, 43],\n",
       "        [44, 45],\n",
       "        [46, 47],\n",
       "        [48, 49]],\n",
       "\n",
       "       [[50, 51],\n",
       "        [52, 53],\n",
       "        [54, 55],\n",
       "        [56, 57],\n",
       "        [58, 59]],\n",
       "\n",
       "       [[60, 61],\n",
       "        [62, 63],\n",
       "        [64, 65],\n",
       "        [66, 67],\n",
       "        [68, 69]]])"
      ]
     },
     "execution_count": 2,
     "metadata": {},
     "output_type": "execute_result"
    }
   ],
   "source": [
    "complexTensor = np.arange(7*5*2).reshape(7,5,2)\n",
    "print(complexTensor.shape)\n",
    "complexTensor"
   ]
  },
  {
   "cell_type": "code",
   "execution_count": 5,
   "metadata": {},
   "outputs": [
    {
     "name": "stdout",
     "output_type": "stream",
     "text": [
      "[[[ 0 10 20 30 40 50 60]\n",
      "  [ 2 12 22 32 42 52 62]\n",
      "  [ 4 14 24 34 44 54 64]\n",
      "  [ 6 16 26 36 46 56 66]\n",
      "  [ 8 18 28 38 48 58 68]]\n",
      "\n",
      " [[ 1 11 21 31 41 51 61]\n",
      "  [ 3 13 23 33 43 53 63]\n",
      "  [ 5 15 25 35 45 55 65]\n",
      "  [ 7 17 27 37 47 57 67]\n",
      "  [ 9 19 29 39 49 59 69]]]\n",
      "(2, 5, 7)\n"
     ]
    }
   ],
   "source": [
    "# Transpose 수행 시 axis를 입력하지 않으면, numpy Library에서 설정된 default값을 출력한다\n",
    "# l * n * m -> m * n * l 이 default\n",
    "# Transpose = n * m -> m * n 으로의 변환을 수행\n",
    "# Transpose => shape permutation(permutation : 순열 순서가 부여된 임의의 집합을 다른 순서로 뒤섞는 연산)\n",
    "transposeTensor = np.transpose(complexTensor)\n",
    "print(transposeTensor)\n",
    "print(transposeTensor.shape)"
   ]
  },
  {
   "cell_type": "code",
   "execution_count": 6,
   "metadata": {},
   "outputs": [
    {
     "name": "stdout",
     "output_type": "stream",
     "text": [
      "[[[ 0 10 20 30 40 50 60]\n",
      "  [ 1 11 21 31 41 51 61]]\n",
      "\n",
      " [[ 2 12 22 32 42 52 62]\n",
      "  [ 3 13 23 33 43 53 63]]\n",
      "\n",
      " [[ 4 14 24 34 44 54 64]\n",
      "  [ 5 15 25 35 45 55 65]]\n",
      "\n",
      " [[ 6 16 26 36 46 56 66]\n",
      "  [ 7 17 27 37 47 57 67]]\n",
      "\n",
      " [[ 8 18 28 38 48 58 68]\n",
      "  [ 9 19 29 39 49 59 69]]]\n",
      "(5, 2, 7)\n"
     ]
    }
   ],
   "source": [
    "# 즉, 내가 원하는 대로 axis를 변환하여 transpose 하려면 axis를 명시적으로 지정해야 한다.\n",
    "transposeTensor2 = np.transpose(complexTensor, [1, 2, 0])\n",
    "print(transposeTensor2)\n",
    "print(transposeTensor2.shape)"
   ]
  }
 ],
 "metadata": {
  "kernelspec": {
   "display_name": "Python 3",
   "language": "python",
   "name": "python3"
  },
  "language_info": {
   "codemirror_mode": {
    "name": "ipython",
    "version": 3
   },
   "file_extension": ".py",
   "mimetype": "text/x-python",
   "name": "python",
   "nbconvert_exporter": "python",
   "pygments_lexer": "ipython3",
   "version": "3.7.3"
  }
 },
 "nbformat": 4,
 "nbformat_minor": 2
}
